{
 "cells": [
  {
   "cell_type": "markdown",
   "metadata": {},
   "source": [
    "# Question 1"
   ]
  },
  {
   "cell_type": "markdown",
   "metadata": {},
   "source": [
    "## 1st Order Reaction"
   ]
  },
  {
   "cell_type": "code",
   "execution_count": 329,
   "metadata": {},
   "outputs": [
    {
     "name": "stdout",
     "output_type": "stream",
     "text": [
      "At 5.0 % Conversion, T_CSTR = 473.44 K\n",
      "At 50.0 % Conversion, T_CSTR = 477.26 K\n",
      "At 99.9 % Conversion, T_CSTR = 535.79 K\n"
     ]
    }
   ],
   "source": [
    "import numpy as np\n",
    "\n",
    "# Constants\n",
    "E_a = 40 * 4184  # Activation energy in J/mol\n",
    "R = 8.314  # Gas constant in J/mol*K\n",
    "T_p = 473.15  # Given temperature in K for the PFR system \n",
    "\n",
    "X_A = [0.05, 0.5, 0.999] # Conversions \n",
    "\n",
    "for i, XA in enumerate(X_A):\n",
    "    # Compute rhs\n",
    "    rhs = - (np.exp(-E_a / (R * T_p)) * XA) / (np.log(1 - XA) * (1 - XA))\n",
    "\n",
    "    # Ensure rhs is positive before taking log\n",
    "    if rhs > 0:\n",
    "        T_c = -E_a / (R * np.log(rhs))\n",
    "        print(f\"At {XA * 100} % Conversion, T_CSTR = {T_c:.2f} K\")\n",
    "    else:\n",
    "        print(\"Error: rhs is negative, cannot take logarithm\")"
   ]
  },
  {
   "cell_type": "markdown",
   "metadata": {},
   "source": [
    "## 1.5 Order Reaction"
   ]
  },
  {
   "cell_type": "code",
   "execution_count": 317,
   "metadata": {},
   "outputs": [
    {
     "name": "stdout",
     "output_type": "stream",
     "text": [
      "At 5.0 % Conversion, T_CSTR = 473.58 K\n",
      "At 50.0 % Conversion, T_CSTR = 479.17 K\n",
      "At 99.9 % Conversion, T_CSTR = 554.56 K\n"
     ]
    }
   ],
   "source": [
    "for i, XA in enumerate(X_A):\n",
    "    # Compute rhs\n",
    "    smiley_face = 2/(np.exp(-E_a/(R * T_p))) * (1/(np.sqrt(1 - XA)) - 1)\n",
    "    frowny_face = XA/((1 - XA)**(1.5) * smiley_face)\n",
    "    T_c = -E_a/(R * np.log(frowny_face))\n",
    "    print(f\"At {XA * 100} % Conversion, T_CSTR = {T_c:.2f} K\")"
   ]
  },
  {
   "cell_type": "markdown",
   "metadata": {},
   "source": [
    "## -1.5 Order Reaction\n"
   ]
  },
  {
   "cell_type": "code",
   "execution_count": 318,
   "metadata": {},
   "outputs": [
    {
     "name": "stdout",
     "output_type": "stream",
     "text": [
      "At 5.0 % Conversion, T_CSTR = 472.72 K\n",
      "At 50.0 % Conversion, T_CSTR = 466.33 K\n",
      "At 99.9 % Conversion, T_CSTR = 387.18 K\n"
     ]
    }
   ],
   "source": [
    "for i, XA in enumerate(X_A):\n",
    "    smiley_face = (0.4) * (1 - (1 - XA)**(2.5)) / np.exp(-E_a / (R * T_p))\n",
    "    frowny_face = (XA * (1 - XA)**(3/2)) / smiley_face\n",
    "    T_c = -E_a/(R * np.log(frowny_face))\n",
    "    print(f\"At {XA * 100} % Conversion, T_CSTR = {T_c:.2f} K\")"
   ]
  },
  {
   "cell_type": "markdown",
   "metadata": {},
   "source": [
    "# Question 4"
   ]
  },
  {
   "cell_type": "markdown",
   "metadata": {},
   "source": [
    "## Part A)"
   ]
  },
  {
   "cell_type": "code",
   "execution_count": 319,
   "metadata": {},
   "outputs": [
    {
     "name": "stdout",
     "output_type": "stream",
     "text": [
      "Q_translation at 588 K: 2.291e+33 [1/m^3]\n"
     ]
    }
   ],
   "source": [
    "kb = 1.3806e-23 # J/K\n",
    "h = 6.626e-34\n",
    "pi = np.pi\n",
    "N_A = 6.022e23\n",
    "\n",
    "carbon_mass = 12.011 # amu\n",
    "hydrogen_mass = 1.00784 # amu\n",
    "oxygen_mass = 15.999 # amu\n",
    "\n",
    "total_mass = (3 * (carbon_mass + (2 * hydrogen_mass) + oxygen_mass)) / (N_A * 1000) # total mass in kg\n",
    "\n",
    "def translational_partition(mass, temperature): # mass in kg, h in J*s, kB in J/K\n",
    "    return ((2 * pi * mass * kb * temperature)/h**2)**(3/2)\n",
    "\n",
    "print(f\"Q_translation at 588 K: {translational_partition(mass = total_mass, temperature = 588):.3e} [1/m^3]\")"
   ]
  },
  {
   "cell_type": "markdown",
   "metadata": {},
   "source": [
    "## Part B)"
   ]
  },
  {
   "cell_type": "code",
   "execution_count": 320,
   "metadata": {},
   "outputs": [
    {
     "name": "stdout",
     "output_type": "stream",
     "text": [
      "Transition State Partition Functions at Varying Temperature:\n",
      "----------------------------------------------------\n",
      "Translational partition function at 400 K: 1.285e+33 [1/m^3]\n",
      "Rotational partition function at 400 K: 6.661e+04 [1/m^3]\n",
      "Vibrational partition function at 400 K: 74.110\n",
      "\n",
      "Translational partition function at 500 K: 1.796e+33 [1/m^3]\n",
      "Rotational partition function at 500 K: 9.309e+04 [1/m^3]\n",
      "Vibrational partition function at 500 K: 287.749\n",
      "\n",
      "Translational partition function at 600 K: 2.361e+33 [1/m^3]\n",
      "Rotational partition function at 600 K: 1.224e+05 [1/m^3]\n",
      "Vibrational partition function at 600 K: 1103.912\n",
      "\n",
      "Translational partition function at 700 K: 2.976e+33 [1/m^3]\n",
      "Rotational partition function at 700 K: 1.542e+05 [1/m^3]\n",
      "Vibrational partition function at 700 K: 4150.083\n",
      "\n"
     ]
    }
   ],
   "source": [
    "kb = 1.3806e-23 # J/K\n",
    "h = 6.626e-34\n",
    "temperatures = [400, 500, 600, 700] # Kelvin\n",
    "\n",
    "rcts_inertia = np.array([156.31, 156.31, 282.82]) * 1e-47 # convert 10^-40 g*cm^2 to kg*m^2\n",
    "rcts_freq = np.array([263, 417, 518, 755, 958, 971, 1048, 1075, 1208, 1230, 1236, 1310, 1381, 1438, 1498, 1518, 2820, 2841, 2998, 3002]) # cm^-1\n",
    "rcts_freq_degen = np.array([2, 1, 2, 1, 2, 1, 1, 2, 2, 1, 1, 2, 1, 2, 2, 1, 2, 1, 2, 1]) # cm^-1\n",
    "\n",
    "expanded_rcts_freq = np.repeat(rcts_freq, rcts_freq_degen)\n",
    "\n",
    "tstate_inertia = np.array([192.10, 192.10, 351.58]) * 1e-47 # convert 10^-40 g*cm^2 to kg*m^2\n",
    "tstate_freq = np.array([134, 248, 273, 434, 528, 893, 914, 1108, 1214, 1222, 1248, 1379, 1415, 1561, 1597, 2879, 2884, 3001, 3004]) # cm^-1\n",
    "tstate_freq_degen = np.array([2, 2, 1, 2, 1, 1, 2, 1, 2, 1, 2, 1, 2, 1, 2, 2, 1, 2, 1]) # cm^-1\n",
    "\n",
    "expanded_tstate_freq = np.repeat(tstate_freq, tstate_freq_degen)\n",
    "\n",
    "def rot_partition(sigma, temperature, moments_of_inertia: np.ndarray):\n",
    "    thetas = h**2 / (8 * pi**2 * moments_of_inertia * kb)\n",
    "    return (np.sqrt(pi) / sigma) * (temperature**(3/2) / np.sqrt(np.prod(thetas)))\n",
    "\n",
    "def vib_partition(nus, temperature):\n",
    "    c = 2.998e10 # speed of light in units of cm/s\n",
    "    freqs = nus * c # convert frequency from inverse cm to 1/s\n",
    "    term = 1/(1 - np.exp(-(h * freqs)/(kb * temperature))) # calculate argument of the product \n",
    "    return np.prod(term) # raise the term in the product to the power of the degeneracies \n",
    "\n",
    "Q_tstate = []\n",
    "\n",
    "print(\"Transition State Partition Functions at Varying Temperature:\")\n",
    "print(\"----------------------------------------------------\")\n",
    "for i, temp in enumerate(temperatures):\n",
    "    print(f\"Translational partition function at {temp} K: {translational_partition(mass = total_mass, temperature = temp):.3e} [1/m^3]\")\n",
    "    print(f\"Rotational partition function at {temp} K: {rot_partition(sigma = 3, temperature = temp, moments_of_inertia = tstate_inertia):.3e} [1/m^3]\")\n",
    "    print(f\"Vibrational partition function at {temp} K: {vib_partition(nus = expanded_tstate_freq, temperature = temp):.3f}\\n\")\n",
    "    Q_tstate.append(translational_partition(mass = total_mass, temperature = temp) * rot_partition(sigma = 3, temperature = temp, moments_of_inertia = tstate_inertia) * vib_partition(nus = expanded_tstate_freq, temperature = temp))"
   ]
  },
  {
   "cell_type": "code",
   "execution_count": 321,
   "metadata": {},
   "outputs": [
    {
     "name": "stdout",
     "output_type": "stream",
     "text": [
      "Reactant Partition Functions at Varying Temperature:\n",
      "----------------------------------------------------\n",
      "Translational partition function at 400 K: 1.285e+33 [1/m^3]\n",
      "Rotational partition function at 400 K: 4.861e+04 [1/m^3]\n",
      "Vibrational partition function at 400 K: 6.701\n",
      "\n",
      "Translational partition function at 500 K: 1.796e+33 [1/m^3]\n",
      "Rotational partition function at 500 K: 6.793e+04 [1/m^3]\n",
      "Vibrational partition function at 500 K: 17.353\n",
      "\n",
      "Translational partition function at 600 K: 2.361e+33 [1/m^3]\n",
      "Rotational partition function at 600 K: 8.930e+04 [1/m^3]\n",
      "Vibrational partition function at 600 K: 49.088\n",
      "\n",
      "Translational partition function at 700 K: 2.976e+33 [1/m^3]\n",
      "Rotational partition function at 700 K: 1.125e+05 [1/m^3]\n",
      "Vibrational partition function at 700 K: 146.439\n",
      "\n"
     ]
    }
   ],
   "source": [
    "Q_rcts = []\n",
    "\n",
    "print(\"Reactant Partition Functions at Varying Temperature:\")\n",
    "print(\"----------------------------------------------------\")\n",
    "for i, temp in enumerate(temperatures):\n",
    "    print(f\"Translational partition function at {temp} K: {translational_partition(mass = total_mass, temperature = temp):.3e} [1/m^3]\")\n",
    "    print(f\"Rotational partition function at {temp} K: {rot_partition(sigma = 3, temperature = temp, moments_of_inertia = rcts_inertia):.3e} [1/m^3]\")\n",
    "    print(f\"Vibrational partition function at {temp} K: {vib_partition(nus = expanded_rcts_freq, temperature = temp):.3f}\\n\")\n",
    "    Q_rcts.append(translational_partition(mass = total_mass, temperature = temp) * rot_partition(sigma = 3, temperature = temp, moments_of_inertia = rcts_inertia) * vib_partition(nus = expanded_rcts_freq, temperature = temp))"
   ]
  },
  {
   "cell_type": "markdown",
   "metadata": {},
   "source": [
    "For this rxn, $q_{trans}$ cancels and the ratio of $q_{rot}$ only leaves $I_{i}$ of the transition state and reactant. Consequently, we only need to find $q_{vib}$"
   ]
  },
  {
   "cell_type": "code",
   "execution_count": 331,
   "metadata": {},
   "outputs": [
    {
     "name": "stdout",
     "output_type": "stream",
     "text": [
      "Ea: 201.79 kJ/mol\n",
      "Forward Rate Constant, k at 400 K: 5.61e-13\n",
      "Forward Rate Constant, k at 500 K: 1.96e-07\n",
      "Forward Rate Constant, k at 600 K: 1.04e-03\n",
      "Forward Rate Constant, k at 700 K: 4.95e-01\n"
     ]
    }
   ],
   "source": [
    "E_a = (-56.05 - (-104.28)) * 4.184 # convert kcal/mol to kj/mol\n",
    "\n",
    "print(f\"Ea: {E_a:.2f} kJ/mol\")\n",
    "\n",
    "rate_constants = []\n",
    "\n",
    "for i, temp in enumerate(temperatures):\n",
    "    k = ((kb*temp/h) * np.sqrt(np.prod(tstate_inertia)/np.prod(rcts_inertia)) * \n",
    "         (vib_partition(nus = expanded_tstate_freq, temperature = temp)/vib_partition(nus = expanded_rcts_freq, temperature = temp)) * np.exp(-E_a/(R/1000*temp)))\n",
    "    print(f\"Forward Rate Constant, k at {temp} K: {k:.2e}\")\n",
    "    rate_constants.append(k)"
   ]
  },
  {
   "cell_type": "markdown",
   "metadata": {},
   "source": [
    "## Part C"
   ]
  },
  {
   "cell_type": "code",
   "execution_count": 323,
   "metadata": {},
   "outputs": [
    {
     "name": "stdout",
     "output_type": "stream",
     "text": [
      "E_a: 213.38 kJ/mol\n",
      "Intercept: 35.92616503399779\n",
      "15.602463556856225\n",
      "4.003718703401463\n"
     ]
    },
    {
     "data": {
      "image/png": "[encoded data removed]",
      "text/plain": [
       "<Figure size 640x480 with 1 Axes>"
      ]
     },
     "metadata": {},
     "output_type": "display_data"
    }
   ],
   "source": [
    "import matplotlib.pyplot as plt\n",
    "\n",
    "coefficients = np.polyfit(1/np.array(temperatures), np.log(rate_constants), 1)\n",
    "slope, intercept = coefficients\n",
    "\n",
    "Ea_Q4 = slope * -R/1000\n",
    "\n",
    "# Print the results\n",
    "print(f\"E_a: {Ea_Q4:.2f} kJ/mol\")\n",
    "print(f\"Intercept: {intercept}\")\n",
    "\n",
    "print(np.log10(np.exp(35.926)))\n",
    "\n",
    "print(10**(np.log10(np.exp(35.926))-15))\n",
    "\n",
    "plt.scatter(1/np.array(temperatures), np.log(rate_constants))\n",
    "plt.xlabel(r\"1/T $\\left[K^{-1}\\right]$\")\n",
    "plt.ylabel(r\"ln(k)\")\n",
    "plt.show();"
   ]
  },
  {
   "cell_type": "markdown",
   "metadata": {},
   "source": [
    "## Part d)"
   ]
  },
  {
   "cell_type": "code",
   "execution_count": 324,
   "metadata": {},
   "outputs": [
    {
     "name": "stdout",
     "output_type": "stream",
     "text": [
      "A(400 K) = 4.112e+15\n",
      "A(500 K) = 3.840e+15\n",
      "A(600 K) = 3.928e+15\n",
      "A(700 K) = 4.145e+15\n"
     ]
    }
   ],
   "source": [
    "for k, temp in zip(rate_constants, temperatures):\n",
    "    print(f\"A({temp} K) = {k/np.exp(-Ea_Q4/(R/1000 * temp)):.3e}\")"
   ]
  },
  {
   "cell_type": "markdown",
   "metadata": {},
   "source": [
    "# Question 5"
   ]
  },
  {
   "cell_type": "markdown",
   "metadata": {},
   "source": [
    "## Part b)"
   ]
  },
  {
   "cell_type": "code",
   "execution_count": 325,
   "metadata": {},
   "outputs": [
    {
     "name": "stdout",
     "output_type": "stream",
     "text": [
      "3.3543673198273e-27\n",
      "q_trans of H2: 2.80e+30\n",
      "q_trans of F: 8.09e+31\n",
      "q_trans of tstate: 9.41e+31\n",
      "Q_trans: 4.15e-31\n"
     ]
    }
   ],
   "source": [
    "m_H2 = 2.02/(N_A*1000) # kg\n",
    "m_F = 19/(N_A*1000) # kg \n",
    "m_tstate = m_H2 + m_F # kg\n",
    "\n",
    "print(m_H2)\n",
    "\n",
    "q_trans_H2 = translational_partition(mass = m_H2, temperature = 300)\n",
    "q_trans_F = translational_partition(mass = m_F, temperature = 300)\n",
    "q_trans_tstate = translational_partition(mass = m_tstate, temperature = 300)\n",
    "\n",
    "Q_trans = (q_trans_tstate)/(q_trans_F*q_trans_H2)\n",
    "\n",
    "print(f\"q_trans of H2: {q_trans_H2:.2e}\")\n",
    "print(f\"q_trans of F: {q_trans_F:.2e}\")\n",
    "print(f\"q_trans of tstate: {q_trans_tstate:.2e}\")\n",
    "print(f\"Q_trans: {Q_trans:.2e}\")"
   ]
  },
  {
   "cell_type": "markdown",
   "metadata": {},
   "source": [
    "## Part c)"
   ]
  },
  {
   "cell_type": "code",
   "execution_count": 326,
   "metadata": {},
   "outputs": [
    {
     "name": "stdout",
     "output_type": "stream",
     "text": [
      "q_rot of H2: 1.701\n",
      "q_rot of tstate: 87.707\n",
      "Q_rot: 51.571\n"
     ]
    }
   ],
   "source": [
    "I_H2 = 0.275 * (1.66054e-27) * (10**(-10))**2 # amu*angstrom^2 --> kg*m^2\n",
    "I_tstate = 7.091 * (1.66054e-27) * (10**(-10))**2 # amu*angstrom^2 --> kg*m^2\n",
    "\n",
    "q_rot_H2 = (8 * pi**2 * kb * 300 * I_H2)/(2*h**2)\n",
    "q_rot_tstate = (8 * pi**2 * kb * 300 * I_tstate)/(1*h**2)\n",
    "\n",
    "Q_rot = q_rot_tstate/q_rot_H2\n",
    "\n",
    "print(f\"q_rot of H2: {q_rot_H2:.3f}\")\n",
    "print(f\"q_rot of tstate: {q_rot_tstate:.3f}\")\n",
    "print(f\"Q_rot: {Q_rot:.3f}\")"
   ]
  },
  {
   "cell_type": "markdown",
   "metadata": {},
   "source": [
    "## Part d)"
   ]
  },
  {
   "cell_type": "code",
   "execution_count": 327,
   "metadata": {},
   "outputs": [
    {
     "name": "stdout",
     "output_type": "stream",
     "text": [
      "1.34e-16 [m^3/s*molec]\n",
      "1.34e+14 [m^3/s*molec]\n"
     ]
    }
   ],
   "source": [
    "A = Q_rot * Q_trans * (kb*300)/h\n",
    "print(f\"{A:.2e} [m^3/s*molec]\")\n",
    "print(f\"{A * (1/(1e-30)):.2e} [m^3/s*molec]\")"
   ]
  },
  {
   "cell_type": "markdown",
   "metadata": {},
   "source": [
    "## Part e)"
   ]
  },
  {
   "cell_type": "code",
   "execution_count": 328,
   "metadata": {},
   "outputs": [
    {
     "name": "stdout",
     "output_type": "stream",
     "text": [
      "4.46e-19 [m^3/s*molec]\n"
     ]
    }
   ],
   "source": [
    "print(f\"{A/300:.2e} [m^3/s*molec]\")"
   ]
  }
 ],
 "metadata": {
  "kernelspec": {
   "display_name": "Python 3",
   "language": "python",
   "name": "python3"
  },
  "language_info": {
   "codemirror_mode": {
    "name": "ipython",
    "version": 3
   },
   "file_extension": ".py",
   "mimetype": "text/x-python",
   "name": "python",
   "nbconvert_exporter": "python",
   "pygments_lexer": "ipython3",
   "version": "3.12.2"
  }
 },
 "nbformat": 4,
 "nbformat_minor": 2
}
